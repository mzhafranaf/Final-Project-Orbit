{
 "cells": [
  {
   "cell_type": "markdown",
   "id": "1670d253",
   "metadata": {},
   "source": [
    "# Thermal Comfort Classifier\n",
    "###### by *Muhammad Zhafran A F*, *Danang Wahyu K*, *Haidar Alghazian A*"
   ]
  },
  {
   "cell_type": "markdown",
   "id": "fd83ff0d",
   "metadata": {},
   "source": [
    "# Data Acquisition "
   ]
  },
  {
   "cell_type": "code",
   "execution_count": 1,
   "id": "010eaff0",
   "metadata": {},
   "outputs": [],
   "source": [
    "import pandas as pd"
   ]
  },
  {
   "cell_type": "code",
   "execution_count": 2,
   "id": "7c4436c8",
   "metadata": {},
   "outputs": [],
   "source": [
    "url = \"https://raw.githubusercontent.com/mzhafranaf/Final-Project-Orbit/main/darjeeling.csv\"\n",
    "dataset = pd.read_csv(url)"
   ]
  },
  {
   "cell_type": "code",
   "execution_count": 3,
   "id": "dfd42c35",
   "metadata": {
    "scrolled": true
   },
   "outputs": [
    {
     "data": {
      "text/html": [
       "<div>\n",
       "<style scoped>\n",
       "    .dataframe tbody tr th:only-of-type {\n",
       "        vertical-align: middle;\n",
       "    }\n",
       "\n",
       "    .dataframe tbody tr th {\n",
       "        vertical-align: top;\n",
       "    }\n",
       "\n",
       "    .dataframe thead th {\n",
       "        text-align: right;\n",
       "    }\n",
       "</style>\n",
       "<table border=\"1\" class=\"dataframe\">\n",
       "  <thead>\n",
       "    <tr style=\"text-align: right;\">\n",
       "      <th></th>\n",
       "      <th>month</th>\n",
       "      <th>season</th>\n",
       "      <th>Location</th>\n",
       "      <th>sex</th>\n",
       "      <th>Subject Code</th>\n",
       "      <th>TSV</th>\n",
       "      <th>TP</th>\n",
       "      <th>air_ts</th>\n",
       "      <th>air_tp</th>\n",
       "      <th>RH_ts</th>\n",
       "      <th>...</th>\n",
       "      <th>PMV</th>\n",
       "      <th>PPD</th>\n",
       "      <th>TnG_R_0.5</th>\n",
       "      <th>Tmr</th>\n",
       "      <th>Top</th>\n",
       "      <th>Tout</th>\n",
       "      <th>Trm</th>\n",
       "      <th>TnG_R_0.25</th>\n",
       "      <th>TnG_R_0.33</th>\n",
       "      <th>Unnamed: 32</th>\n",
       "    </tr>\n",
       "  </thead>\n",
       "  <tbody>\n",
       "    <tr>\n",
       "      <th>0</th>\n",
       "      <td>1.0</td>\n",
       "      <td>1.0</td>\n",
       "      <td>S0135</td>\n",
       "      <td>1.0</td>\n",
       "      <td>FSL1</td>\n",
       "      <td>-1.0</td>\n",
       "      <td>-1</td>\n",
       "      <td>0</td>\n",
       "      <td>0</td>\n",
       "      <td>-1.0</td>\n",
       "      <td>...</td>\n",
       "      <td>0.768705</td>\n",
       "      <td>16.575062</td>\n",
       "      <td>26.948807</td>\n",
       "      <td>25.797614</td>\n",
       "      <td>24.948807</td>\n",
       "      <td>18.5</td>\n",
       "      <td>19.238792</td>\n",
       "      <td>28.948807</td>\n",
       "      <td>27.979110</td>\n",
       "      <td>0.0</td>\n",
       "    </tr>\n",
       "    <tr>\n",
       "      <th>1</th>\n",
       "      <td>1.0</td>\n",
       "      <td>1.0</td>\n",
       "      <td>S0135</td>\n",
       "      <td>1.0</td>\n",
       "      <td>FSL2</td>\n",
       "      <td>-1.0</td>\n",
       "      <td>-1</td>\n",
       "      <td>-1</td>\n",
       "      <td>0</td>\n",
       "      <td>1.0</td>\n",
       "      <td>...</td>\n",
       "      <td>0.236143</td>\n",
       "      <td>6.148326</td>\n",
       "      <td>26.860770</td>\n",
       "      <td>25.521541</td>\n",
       "      <td>24.860770</td>\n",
       "      <td>18.5</td>\n",
       "      <td>19.238792</td>\n",
       "      <td>28.860770</td>\n",
       "      <td>27.891073</td>\n",
       "      <td>0.0</td>\n",
       "    </tr>\n",
       "    <tr>\n",
       "      <th>2</th>\n",
       "      <td>1.0</td>\n",
       "      <td>1.0</td>\n",
       "      <td>S0135</td>\n",
       "      <td>1.0</td>\n",
       "      <td>FSL3</td>\n",
       "      <td>-1.0</td>\n",
       "      <td>-1</td>\n",
       "      <td>-1</td>\n",
       "      <td>0</td>\n",
       "      <td>1.0</td>\n",
       "      <td>...</td>\n",
       "      <td>0.246064</td>\n",
       "      <td>6.246280</td>\n",
       "      <td>26.948807</td>\n",
       "      <td>25.797614</td>\n",
       "      <td>24.948807</td>\n",
       "      <td>18.5</td>\n",
       "      <td>19.238792</td>\n",
       "      <td>28.948807</td>\n",
       "      <td>27.979110</td>\n",
       "      <td>0.0</td>\n",
       "    </tr>\n",
       "    <tr>\n",
       "      <th>3</th>\n",
       "      <td>1.0</td>\n",
       "      <td>1.0</td>\n",
       "      <td>S0135</td>\n",
       "      <td>1.0</td>\n",
       "      <td>FSL4</td>\n",
       "      <td>-1.0</td>\n",
       "      <td>-1</td>\n",
       "      <td>-1</td>\n",
       "      <td>0</td>\n",
       "      <td>1.0</td>\n",
       "      <td>...</td>\n",
       "      <td>0.299259</td>\n",
       "      <td>6.838386</td>\n",
       "      <td>26.843366</td>\n",
       "      <td>25.786732</td>\n",
       "      <td>24.843366</td>\n",
       "      <td>18.5</td>\n",
       "      <td>19.238792</td>\n",
       "      <td>28.843366</td>\n",
       "      <td>27.873669</td>\n",
       "      <td>0.0</td>\n",
       "    </tr>\n",
       "    <tr>\n",
       "      <th>4</th>\n",
       "      <td>1.0</td>\n",
       "      <td>1.0</td>\n",
       "      <td>S0135</td>\n",
       "      <td>1.0</td>\n",
       "      <td>FSL5</td>\n",
       "      <td>0.0</td>\n",
       "      <td>0</td>\n",
       "      <td>0</td>\n",
       "      <td>0</td>\n",
       "      <td>0.0</td>\n",
       "      <td>...</td>\n",
       "      <td>-0.444504</td>\n",
       "      <td>9.015203</td>\n",
       "      <td>24.755364</td>\n",
       "      <td>25.510728</td>\n",
       "      <td>24.755364</td>\n",
       "      <td>18.5</td>\n",
       "      <td>19.238792</td>\n",
       "      <td>24.755364</td>\n",
       "      <td>24.755364</td>\n",
       "      <td>0.0</td>\n",
       "    </tr>\n",
       "  </tbody>\n",
       "</table>\n",
       "<p>5 rows × 33 columns</p>\n",
       "</div>"
      ],
      "text/plain": [
       "   month  season Location  sex Subject Code  TSV  TP air_ts air_tp  RH_ts  \\\n",
       "0    1.0     1.0    S0135  1.0         FSL1 -1.0  -1      0      0   -1.0   \n",
       "1    1.0     1.0    S0135  1.0         FSL2 -1.0  -1     -1      0    1.0   \n",
       "2    1.0     1.0    S0135  1.0         FSL3 -1.0  -1     -1      0    1.0   \n",
       "3    1.0     1.0    S0135  1.0         FSL4 -1.0  -1     -1      0    1.0   \n",
       "4    1.0     1.0    S0135  1.0         FSL5  0.0   0      0      0    0.0   \n",
       "\n",
       "   ...       PMV        PPD  TnG_R_0.5        Tmr        Top  Tout        Trm  \\\n",
       "0  ...  0.768705  16.575062  26.948807  25.797614  24.948807  18.5  19.238792   \n",
       "1  ...  0.236143   6.148326  26.860770  25.521541  24.860770  18.5  19.238792   \n",
       "2  ...  0.246064   6.246280  26.948807  25.797614  24.948807  18.5  19.238792   \n",
       "3  ...  0.299259   6.838386  26.843366  25.786732  24.843366  18.5  19.238792   \n",
       "4  ... -0.444504   9.015203  24.755364  25.510728  24.755364  18.5  19.238792   \n",
       "\n",
       "   TnG_R_0.25 TnG_R_0.33  Unnamed: 32  \n",
       "0   28.948807  27.979110          0.0  \n",
       "1   28.860770  27.891073          0.0  \n",
       "2   28.948807  27.979110          0.0  \n",
       "3   28.843366  27.873669          0.0  \n",
       "4   24.755364  24.755364          0.0  \n",
       "\n",
       "[5 rows x 33 columns]"
      ]
     },
     "execution_count": 3,
     "metadata": {},
     "output_type": "execute_result"
    }
   ],
   "source": [
    "dataset.head()"
   ]
  },
  {
   "cell_type": "code",
   "execution_count": 4,
   "id": "a5e61f02",
   "metadata": {},
   "outputs": [
    {
     "name": "stdout",
     "output_type": "stream",
     "text": [
      "<class 'pandas.core.frame.DataFrame'>\n",
      "RangeIndex: 3008 entries, 0 to 3007\n",
      "Data columns (total 33 columns):\n",
      " #   Column        Non-Null Count  Dtype  \n",
      "---  ------        --------------  -----  \n",
      " 0   month         2608 non-null   float64\n",
      " 1   season        2608 non-null   float64\n",
      " 2   Location      2608 non-null   object \n",
      " 3   sex           2608 non-null   float64\n",
      " 4   Subject Code  2608 non-null   object \n",
      " 5   TSV           2608 non-null   float64\n",
      " 6   TP            2608 non-null   object \n",
      " 7   air_ts        2608 non-null   object \n",
      " 8   air_tp        2608 non-null   object \n",
      " 9   RH_ts         2608 non-null   float64\n",
      " 10  RH_tp         2608 non-null   float64\n",
      " 11  comfort       2608 non-null   object \n",
      " 12  prod          2608 non-null   object \n",
      " 13  TA            2608 non-null   object \n",
      " 14  clo           2608 non-null   float64\n",
      " 15  Uphols        2608 non-null   object \n",
      " 16  clo_tot       2608 non-null   float64\n",
      " 17  met           2608 non-null   float64\n",
      " 18  sh_sw         2608 non-null   object \n",
      " 19  Ti            2608 non-null   float64\n",
      " 20  Tg            2608 non-null   float64\n",
      " 21  Va            2608 non-null   float64\n",
      " 22  RH            2608 non-null   float64\n",
      " 23  PMV           2608 non-null   float64\n",
      " 24  PPD           2608 non-null   float64\n",
      " 25  TnG_R_0.5     2608 non-null   float64\n",
      " 26  Tmr           2608 non-null   float64\n",
      " 27  Top           2608 non-null   float64\n",
      " 28  Tout          2608 non-null   float64\n",
      " 29  Trm           2608 non-null   float64\n",
      " 30  TnG_R_0.25    2608 non-null   float64\n",
      " 31  TnG_R_0.33    2608 non-null   float64\n",
      " 32  Unnamed: 32   570 non-null    float64\n",
      "dtypes: float64(23), object(10)\n",
      "memory usage: 775.6+ KB\n"
     ]
    }
   ],
   "source": [
    "dataset.info()"
   ]
  },
  {
   "cell_type": "markdown",
   "id": "2a9e1755",
   "metadata": {},
   "source": [
    "### Selection Feature"
   ]
  },
  {
   "cell_type": "markdown",
   "id": "0f2b2a66",
   "metadata": {},
   "source": [
    "Dataset memiliki 3008 baris dan 33 fitur. Fitur yang digunakan untuk klasifikasi kenyamanan termal (*thermal comfort*) berdasarkan *Fanger's parameter* dan ASHRAE 55 :\n",
    "- Indoor Air Termperature (Ti)\n",
    "- Relative Humidity (RH)\n",
    "- Temperature mean radiant (Tmr)\n",
    "- Air Velocity (Va)\n",
    "- Metabolism rate (met)\n",
    "- Clothing insulation (clo)\n",
    "\n",
    "Thermal Sensation Vote (TSV) merupakan skala yang menggambarkan sensasi yang dirasakan dari *cold* - *neutral* - *warm* dengan nilai -3 sampai +3"
   ]
  },
  {
   "cell_type": "code",
   "execution_count": 5,
   "id": "370a3c55",
   "metadata": {},
   "outputs": [
    {
     "data": {
      "text/html": [
       "<div>\n",
       "<style scoped>\n",
       "    .dataframe tbody tr th:only-of-type {\n",
       "        vertical-align: middle;\n",
       "    }\n",
       "\n",
       "    .dataframe tbody tr th {\n",
       "        vertical-align: top;\n",
       "    }\n",
       "\n",
       "    .dataframe thead th {\n",
       "        text-align: right;\n",
       "    }\n",
       "</style>\n",
       "<table border=\"1\" class=\"dataframe\">\n",
       "  <thead>\n",
       "    <tr style=\"text-align: right;\">\n",
       "      <th></th>\n",
       "      <th>Ti</th>\n",
       "      <th>RH</th>\n",
       "      <th>Tmr</th>\n",
       "      <th>Va</th>\n",
       "      <th>met</th>\n",
       "      <th>clo</th>\n",
       "      <th>TSV</th>\n",
       "    </tr>\n",
       "  </thead>\n",
       "  <tbody>\n",
       "    <tr>\n",
       "      <th>0</th>\n",
       "      <td>24.1</td>\n",
       "      <td>49.1</td>\n",
       "      <td>25.797614</td>\n",
       "      <td>0.1</td>\n",
       "      <td>1.25</td>\n",
       "      <td>0.98</td>\n",
       "      <td>-1.0</td>\n",
       "    </tr>\n",
       "    <tr>\n",
       "      <th>1</th>\n",
       "      <td>24.2</td>\n",
       "      <td>49.7</td>\n",
       "      <td>25.521541</td>\n",
       "      <td>0.1</td>\n",
       "      <td>1.00</td>\n",
       "      <td>0.86</td>\n",
       "      <td>-1.0</td>\n",
       "    </tr>\n",
       "    <tr>\n",
       "      <th>2</th>\n",
       "      <td>24.1</td>\n",
       "      <td>49.7</td>\n",
       "      <td>25.797614</td>\n",
       "      <td>0.1</td>\n",
       "      <td>1.00</td>\n",
       "      <td>0.85</td>\n",
       "      <td>-1.0</td>\n",
       "    </tr>\n",
       "    <tr>\n",
       "      <th>3</th>\n",
       "      <td>23.9</td>\n",
       "      <td>46.3</td>\n",
       "      <td>25.786732</td>\n",
       "      <td>0.1</td>\n",
       "      <td>1.00</td>\n",
       "      <td>0.93</td>\n",
       "      <td>-1.0</td>\n",
       "    </tr>\n",
       "    <tr>\n",
       "      <th>4</th>\n",
       "      <td>24.0</td>\n",
       "      <td>46.5</td>\n",
       "      <td>25.510728</td>\n",
       "      <td>0.1</td>\n",
       "      <td>1.10</td>\n",
       "      <td>0.40</td>\n",
       "      <td>0.0</td>\n",
       "    </tr>\n",
       "    <tr>\n",
       "      <th>...</th>\n",
       "      <td>...</td>\n",
       "      <td>...</td>\n",
       "      <td>...</td>\n",
       "      <td>...</td>\n",
       "      <td>...</td>\n",
       "      <td>...</td>\n",
       "      <td>...</td>\n",
       "    </tr>\n",
       "    <tr>\n",
       "      <th>3003</th>\n",
       "      <td>NaN</td>\n",
       "      <td>NaN</td>\n",
       "      <td>NaN</td>\n",
       "      <td>NaN</td>\n",
       "      <td>NaN</td>\n",
       "      <td>NaN</td>\n",
       "      <td>NaN</td>\n",
       "    </tr>\n",
       "    <tr>\n",
       "      <th>3004</th>\n",
       "      <td>NaN</td>\n",
       "      <td>NaN</td>\n",
       "      <td>NaN</td>\n",
       "      <td>NaN</td>\n",
       "      <td>NaN</td>\n",
       "      <td>NaN</td>\n",
       "      <td>NaN</td>\n",
       "    </tr>\n",
       "    <tr>\n",
       "      <th>3005</th>\n",
       "      <td>NaN</td>\n",
       "      <td>NaN</td>\n",
       "      <td>NaN</td>\n",
       "      <td>NaN</td>\n",
       "      <td>NaN</td>\n",
       "      <td>NaN</td>\n",
       "      <td>NaN</td>\n",
       "    </tr>\n",
       "    <tr>\n",
       "      <th>3006</th>\n",
       "      <td>NaN</td>\n",
       "      <td>NaN</td>\n",
       "      <td>NaN</td>\n",
       "      <td>NaN</td>\n",
       "      <td>NaN</td>\n",
       "      <td>NaN</td>\n",
       "      <td>NaN</td>\n",
       "    </tr>\n",
       "    <tr>\n",
       "      <th>3007</th>\n",
       "      <td>NaN</td>\n",
       "      <td>NaN</td>\n",
       "      <td>NaN</td>\n",
       "      <td>NaN</td>\n",
       "      <td>NaN</td>\n",
       "      <td>NaN</td>\n",
       "      <td>NaN</td>\n",
       "    </tr>\n",
       "  </tbody>\n",
       "</table>\n",
       "<p>3008 rows × 7 columns</p>\n",
       "</div>"
      ],
      "text/plain": [
       "        Ti    RH        Tmr   Va   met   clo  TSV\n",
       "0     24.1  49.1  25.797614  0.1  1.25  0.98 -1.0\n",
       "1     24.2  49.7  25.521541  0.1  1.00  0.86 -1.0\n",
       "2     24.1  49.7  25.797614  0.1  1.00  0.85 -1.0\n",
       "3     23.9  46.3  25.786732  0.1  1.00  0.93 -1.0\n",
       "4     24.0  46.5  25.510728  0.1  1.10  0.40  0.0\n",
       "...    ...   ...        ...  ...   ...   ...  ...\n",
       "3003   NaN   NaN        NaN  NaN   NaN   NaN  NaN\n",
       "3004   NaN   NaN        NaN  NaN   NaN   NaN  NaN\n",
       "3005   NaN   NaN        NaN  NaN   NaN   NaN  NaN\n",
       "3006   NaN   NaN        NaN  NaN   NaN   NaN  NaN\n",
       "3007   NaN   NaN        NaN  NaN   NaN   NaN  NaN\n",
       "\n",
       "[3008 rows x 7 columns]"
      ]
     },
     "execution_count": 5,
     "metadata": {},
     "output_type": "execute_result"
    }
   ],
   "source": [
    "data = dataset[['Ti','RH', 'Tmr', 'Va', 'met', 'clo', 'TSV']]\n",
    "data"
   ]
  },
  {
   "cell_type": "markdown",
   "id": "106f4eea",
   "metadata": {},
   "source": [
    "# Data Exploration"
   ]
  },
  {
   "cell_type": "code",
   "execution_count": 6,
   "id": "f9cbd670",
   "metadata": {},
   "outputs": [
    {
     "name": "stdout",
     "output_type": "stream",
     "text": [
      "<class 'pandas.core.frame.DataFrame'>\n",
      "RangeIndex: 3008 entries, 0 to 3007\n",
      "Data columns (total 7 columns):\n",
      " #   Column  Non-Null Count  Dtype  \n",
      "---  ------  --------------  -----  \n",
      " 0   Ti      2608 non-null   float64\n",
      " 1   RH      2608 non-null   float64\n",
      " 2   Tmr     2608 non-null   float64\n",
      " 3   Va      2608 non-null   float64\n",
      " 4   met     2608 non-null   float64\n",
      " 5   clo     2608 non-null   float64\n",
      " 6   TSV     2608 non-null   float64\n",
      "dtypes: float64(7)\n",
      "memory usage: 164.6 KB\n"
     ]
    }
   ],
   "source": [
    "data.info()"
   ]
  },
  {
   "cell_type": "markdown",
   "id": "230c15b1",
   "metadata": {},
   "source": [
    "### Cleaning Data"
   ]
  },
  {
   "cell_type": "markdown",
   "id": "c6a05dab",
   "metadata": {},
   "source": [
    "Data di atas masih perlu dicek ada/tidaknya *null/NaN value* untuk dibersihkan"
   ]
  },
  {
   "cell_type": "code",
   "execution_count": 7,
   "id": "4abb32ea",
   "metadata": {},
   "outputs": [
    {
     "data": {
      "text/plain": [
       "Ti     400\n",
       "RH     400\n",
       "Tmr    400\n",
       "Va     400\n",
       "met    400\n",
       "clo    400\n",
       "TSV    400\n",
       "dtype: int64"
      ]
     },
     "execution_count": 7,
     "metadata": {},
     "output_type": "execute_result"
    }
   ],
   "source": [
    "data.isnull().sum()"
   ]
  },
  {
   "cell_type": "code",
   "execution_count": 8,
   "id": "bdbc9c56",
   "metadata": {},
   "outputs": [
    {
     "data": {
      "text/html": [
       "<div>\n",
       "<style scoped>\n",
       "    .dataframe tbody tr th:only-of-type {\n",
       "        vertical-align: middle;\n",
       "    }\n",
       "\n",
       "    .dataframe tbody tr th {\n",
       "        vertical-align: top;\n",
       "    }\n",
       "\n",
       "    .dataframe thead th {\n",
       "        text-align: right;\n",
       "    }\n",
       "</style>\n",
       "<table border=\"1\" class=\"dataframe\">\n",
       "  <thead>\n",
       "    <tr style=\"text-align: right;\">\n",
       "      <th></th>\n",
       "      <th>Ti</th>\n",
       "      <th>RH</th>\n",
       "      <th>Tmr</th>\n",
       "      <th>Va</th>\n",
       "      <th>met</th>\n",
       "      <th>clo</th>\n",
       "      <th>TSV</th>\n",
       "    </tr>\n",
       "  </thead>\n",
       "  <tbody>\n",
       "    <tr>\n",
       "      <th>0</th>\n",
       "      <td>24.1</td>\n",
       "      <td>49.1</td>\n",
       "      <td>25.797614</td>\n",
       "      <td>0.1</td>\n",
       "      <td>1.25</td>\n",
       "      <td>0.980</td>\n",
       "      <td>-1.0</td>\n",
       "    </tr>\n",
       "    <tr>\n",
       "      <th>1</th>\n",
       "      <td>24.2</td>\n",
       "      <td>49.7</td>\n",
       "      <td>25.521541</td>\n",
       "      <td>0.1</td>\n",
       "      <td>1.00</td>\n",
       "      <td>0.860</td>\n",
       "      <td>-1.0</td>\n",
       "    </tr>\n",
       "    <tr>\n",
       "      <th>2</th>\n",
       "      <td>24.1</td>\n",
       "      <td>49.7</td>\n",
       "      <td>25.797614</td>\n",
       "      <td>0.1</td>\n",
       "      <td>1.00</td>\n",
       "      <td>0.850</td>\n",
       "      <td>-1.0</td>\n",
       "    </tr>\n",
       "    <tr>\n",
       "      <th>3</th>\n",
       "      <td>23.9</td>\n",
       "      <td>46.3</td>\n",
       "      <td>25.786732</td>\n",
       "      <td>0.1</td>\n",
       "      <td>1.00</td>\n",
       "      <td>0.930</td>\n",
       "      <td>-1.0</td>\n",
       "    </tr>\n",
       "    <tr>\n",
       "      <th>4</th>\n",
       "      <td>24.0</td>\n",
       "      <td>46.5</td>\n",
       "      <td>25.510728</td>\n",
       "      <td>0.1</td>\n",
       "      <td>1.10</td>\n",
       "      <td>0.400</td>\n",
       "      <td>0.0</td>\n",
       "    </tr>\n",
       "    <tr>\n",
       "      <th>...</th>\n",
       "      <td>...</td>\n",
       "      <td>...</td>\n",
       "      <td>...</td>\n",
       "      <td>...</td>\n",
       "      <td>...</td>\n",
       "      <td>...</td>\n",
       "      <td>...</td>\n",
       "    </tr>\n",
       "    <tr>\n",
       "      <th>2603</th>\n",
       "      <td>12.4</td>\n",
       "      <td>55.6</td>\n",
       "      <td>8.930533</td>\n",
       "      <td>0.1</td>\n",
       "      <td>1.10</td>\n",
       "      <td>0.987</td>\n",
       "      <td>-1.0</td>\n",
       "    </tr>\n",
       "    <tr>\n",
       "      <th>2604</th>\n",
       "      <td>13.8</td>\n",
       "      <td>55.5</td>\n",
       "      <td>14.198998</td>\n",
       "      <td>0.1</td>\n",
       "      <td>1.10</td>\n",
       "      <td>0.830</td>\n",
       "      <td>0.0</td>\n",
       "    </tr>\n",
       "    <tr>\n",
       "      <th>2605</th>\n",
       "      <td>14.2</td>\n",
       "      <td>53.8</td>\n",
       "      <td>12.796541</td>\n",
       "      <td>0.1</td>\n",
       "      <td>1.10</td>\n",
       "      <td>1.150</td>\n",
       "      <td>-1.0</td>\n",
       "    </tr>\n",
       "    <tr>\n",
       "      <th>2606</th>\n",
       "      <td>14.2</td>\n",
       "      <td>55.2</td>\n",
       "      <td>12.190274</td>\n",
       "      <td>0.1</td>\n",
       "      <td>1.10</td>\n",
       "      <td>0.920</td>\n",
       "      <td>-1.0</td>\n",
       "    </tr>\n",
       "    <tr>\n",
       "      <th>2607</th>\n",
       "      <td>14.1</td>\n",
       "      <td>59.9</td>\n",
       "      <td>13.098586</td>\n",
       "      <td>0.1</td>\n",
       "      <td>1.10</td>\n",
       "      <td>1.060</td>\n",
       "      <td>0.0</td>\n",
       "    </tr>\n",
       "  </tbody>\n",
       "</table>\n",
       "<p>2608 rows × 7 columns</p>\n",
       "</div>"
      ],
      "text/plain": [
       "        Ti    RH        Tmr   Va   met    clo  TSV\n",
       "0     24.1  49.1  25.797614  0.1  1.25  0.980 -1.0\n",
       "1     24.2  49.7  25.521541  0.1  1.00  0.860 -1.0\n",
       "2     24.1  49.7  25.797614  0.1  1.00  0.850 -1.0\n",
       "3     23.9  46.3  25.786732  0.1  1.00  0.930 -1.0\n",
       "4     24.0  46.5  25.510728  0.1  1.10  0.400  0.0\n",
       "...    ...   ...        ...  ...   ...    ...  ...\n",
       "2603  12.4  55.6   8.930533  0.1  1.10  0.987 -1.0\n",
       "2604  13.8  55.5  14.198998  0.1  1.10  0.830  0.0\n",
       "2605  14.2  53.8  12.796541  0.1  1.10  1.150 -1.0\n",
       "2606  14.2  55.2  12.190274  0.1  1.10  0.920 -1.0\n",
       "2607  14.1  59.9  13.098586  0.1  1.10  1.060  0.0\n",
       "\n",
       "[2608 rows x 7 columns]"
      ]
     },
     "execution_count": 8,
     "metadata": {},
     "output_type": "execute_result"
    }
   ],
   "source": [
    "data = data.dropna()\n",
    "data"
   ]
  },
  {
   "cell_type": "markdown",
   "id": "d2a6be79",
   "metadata": {},
   "source": [
    "Selanjutnya dilakuakan pengecekan *unique feature* yaitu TSV untuk melihat ada tidaknya nilai string yang tidak merepresentasikan *Thermal Sensation Vote*"
   ]
  },
  {
   "cell_type": "code",
   "execution_count": 9,
   "id": "992cef77",
   "metadata": {
    "scrolled": true
   },
   "outputs": [
    {
     "data": {
      "text/plain": [
       "array([-1.,  0.,  1., -2.,  2., -3.,  3.])"
      ]
     },
     "execution_count": 9,
     "metadata": {},
     "output_type": "execute_result"
    }
   ],
   "source": [
    "data.TSV.unique()"
   ]
  },
  {
   "cell_type": "code",
   "execution_count": 10,
   "id": "318c99fc",
   "metadata": {},
   "outputs": [
    {
     "data": {
      "text/plain": [
       "-1.0    850\n",
       " 0.0    831\n",
       " 1.0    569\n",
       "-2.0    182\n",
       " 2.0    102\n",
       "-3.0     57\n",
       " 3.0     17\n",
       "Name: TSV, dtype: int64"
      ]
     },
     "execution_count": 10,
     "metadata": {},
     "output_type": "execute_result"
    }
   ],
   "source": [
    "data['TSV'].value_counts()"
   ]
  },
  {
   "cell_type": "code",
   "execution_count": 11,
   "id": "42d3d462",
   "metadata": {},
   "outputs": [],
   "source": [
    "import matplotlib.pyplot as plt\n",
    "import seaborn as sns"
   ]
  },
  {
   "cell_type": "code",
   "execution_count": 12,
   "id": "079da015",
   "metadata": {},
   "outputs": [
    {
     "data": {
      "text/plain": [
       "<AxesSubplot:xlabel='TSV', ylabel='count'>"
      ]
     },
     "execution_count": 12,
     "metadata": {},
     "output_type": "execute_result"
    },
    {
     "data": {
      "image/png": "[encoded data removed]",
      "text/plain": [
       "<Figure size 432x288 with 1 Axes>"
      ]
     },
     "metadata": {
      "needs_background": "light"
     },
     "output_type": "display_data"
    }
   ],
   "source": [
    "sns.countplot(x='TSV', data=data, order=data.TSV.unique().sort())"
   ]
  },
  {
   "cell_type": "markdown",
   "id": "711ad107",
   "metadata": {},
   "source": [
    "### Preprocessing Data"
   ]
  },
  {
   "cell_type": "markdown",
   "id": "4cfadf71",
   "metadata": {},
   "source": [
    "##### Class Simplify "
   ]
  },
  {
   "cell_type": "markdown",
   "id": "921d25c4",
   "metadata": {},
   "source": [
    "TP memiliki 7 kelas. Namun, untuk menyederhanakan klasifikasi supaya tidak terjadi *underfiting* karena persebaran data terlalu sedikit dengan model yang terlalu rumit, maka kelas akan disederhanakan dari 7 kelas menjadi 3 kelas saja."
   ]
  },
  {
   "cell_type": "code",
   "execution_count": 13,
   "id": "e968dc57",
   "metadata": {},
   "outputs": [],
   "source": [
    "data = data.astype({'TSV':str})"
   ]
  },
  {
   "cell_type": "code",
   "execution_count": 14,
   "id": "df660afb",
   "metadata": {},
   "outputs": [
    {
     "data": {
      "text/html": [
       "<div>\n",
       "<style scoped>\n",
       "    .dataframe tbody tr th:only-of-type {\n",
       "        vertical-align: middle;\n",
       "    }\n",
       "\n",
       "    .dataframe tbody tr th {\n",
       "        vertical-align: top;\n",
       "    }\n",
       "\n",
       "    .dataframe thead th {\n",
       "        text-align: right;\n",
       "    }\n",
       "</style>\n",
       "<table border=\"1\" class=\"dataframe\">\n",
       "  <thead>\n",
       "    <tr style=\"text-align: right;\">\n",
       "      <th></th>\n",
       "      <th>Ti</th>\n",
       "      <th>RH</th>\n",
       "      <th>Tmr</th>\n",
       "      <th>Va</th>\n",
       "      <th>met</th>\n",
       "      <th>clo</th>\n",
       "      <th>TSV</th>\n",
       "      <th>comfortLevel</th>\n",
       "    </tr>\n",
       "  </thead>\n",
       "  <tbody>\n",
       "    <tr>\n",
       "      <th>0</th>\n",
       "      <td>24.1</td>\n",
       "      <td>49.1</td>\n",
       "      <td>25.797614</td>\n",
       "      <td>0.1</td>\n",
       "      <td>1.25</td>\n",
       "      <td>0.98</td>\n",
       "      <td>-1.0</td>\n",
       "      <td>cold</td>\n",
       "    </tr>\n",
       "    <tr>\n",
       "      <th>1</th>\n",
       "      <td>24.2</td>\n",
       "      <td>49.7</td>\n",
       "      <td>25.521541</td>\n",
       "      <td>0.1</td>\n",
       "      <td>1.00</td>\n",
       "      <td>0.86</td>\n",
       "      <td>-1.0</td>\n",
       "      <td>cold</td>\n",
       "    </tr>\n",
       "    <tr>\n",
       "      <th>2</th>\n",
       "      <td>24.1</td>\n",
       "      <td>49.7</td>\n",
       "      <td>25.797614</td>\n",
       "      <td>0.1</td>\n",
       "      <td>1.00</td>\n",
       "      <td>0.85</td>\n",
       "      <td>-1.0</td>\n",
       "      <td>cold</td>\n",
       "    </tr>\n",
       "    <tr>\n",
       "      <th>3</th>\n",
       "      <td>23.9</td>\n",
       "      <td>46.3</td>\n",
       "      <td>25.786732</td>\n",
       "      <td>0.1</td>\n",
       "      <td>1.00</td>\n",
       "      <td>0.93</td>\n",
       "      <td>-1.0</td>\n",
       "      <td>cold</td>\n",
       "    </tr>\n",
       "    <tr>\n",
       "      <th>4</th>\n",
       "      <td>24.0</td>\n",
       "      <td>46.5</td>\n",
       "      <td>25.510728</td>\n",
       "      <td>0.1</td>\n",
       "      <td>1.10</td>\n",
       "      <td>0.40</td>\n",
       "      <td>0.0</td>\n",
       "      <td>neutral</td>\n",
       "    </tr>\n",
       "  </tbody>\n",
       "</table>\n",
       "</div>"
      ],
      "text/plain": [
       "     Ti    RH        Tmr   Va   met   clo   TSV comfortLevel\n",
       "0  24.1  49.1  25.797614  0.1  1.25  0.98  -1.0         cold\n",
       "1  24.2  49.7  25.521541  0.1  1.00  0.86  -1.0         cold\n",
       "2  24.1  49.7  25.797614  0.1  1.00  0.85  -1.0         cold\n",
       "3  23.9  46.3  25.786732  0.1  1.00  0.93  -1.0         cold\n",
       "4  24.0  46.5  25.510728  0.1  1.10  0.40   0.0      neutral"
      ]
     },
     "execution_count": 14,
     "metadata": {},
     "output_type": "execute_result"
    }
   ],
   "source": [
    "comfortLevel = { '3.0':'warm',\n",
    "                 '2.0':'warm',\n",
    "                 '1.0':'warm',\n",
    "                 '0.0':'neutral',\n",
    "                '-1.0':'cold',\n",
    "                '-2.0':'cold',\n",
    "                '-3.0':'cold'}\n",
    "\n",
    "data['comfortLevel'] = data['TSV'].map(comfortLevel)\n",
    "data.head()"
   ]
  },
  {
   "cell_type": "code",
   "execution_count": 15,
   "id": "6c9649fc",
   "metadata": {},
   "outputs": [
    {
     "data": {
      "text/plain": [
       "cold       1089\n",
       "neutral     831\n",
       "warm        688\n",
       "Name: comfortLevel, dtype: int64"
      ]
     },
     "execution_count": 15,
     "metadata": {},
     "output_type": "execute_result"
    }
   ],
   "source": [
    "data['comfortLevel'].value_counts()"
   ]
  },
  {
   "cell_type": "code",
   "execution_count": 16,
   "id": "c2cfcbb5",
   "metadata": {},
   "outputs": [
    {
     "data": {
      "text/plain": [
       "<AxesSubplot:xlabel='comfortLevel', ylabel='count'>"
      ]
     },
     "execution_count": 16,
     "metadata": {},
     "output_type": "execute_result"
    },
    {
     "data": {
      "image/png": "[encoded data removed]",
      "text/plain": [
       "<Figure size 432x288 with 1 Axes>"
      ]
     },
     "metadata": {
      "needs_background": "light"
     },
     "output_type": "display_data"
    }
   ],
   "source": [
    "sns.countplot(x='comfortLevel', data=data)"
   ]
  },
  {
   "cell_type": "markdown",
   "id": "62da24e0",
   "metadata": {},
   "source": [
    "##### Outlier Analysis"
   ]
  },
  {
   "cell_type": "code",
   "execution_count": 17,
   "id": "c949097b",
   "metadata": {},
   "outputs": [],
   "source": [
    "# sns.pairplot(data=data, hue='comfortLevel')"
   ]
  },
  {
   "cell_type": "code",
   "execution_count": 18,
   "id": "3b835361",
   "metadata": {},
   "outputs": [
    {
     "data": {
      "text/html": [
       "<div>\n",
       "<style scoped>\n",
       "    .dataframe tbody tr th:only-of-type {\n",
       "        vertical-align: middle;\n",
       "    }\n",
       "\n",
       "    .dataframe tbody tr th {\n",
       "        vertical-align: top;\n",
       "    }\n",
       "\n",
       "    .dataframe thead th {\n",
       "        text-align: right;\n",
       "    }\n",
       "</style>\n",
       "<table border=\"1\" class=\"dataframe\">\n",
       "  <thead>\n",
       "    <tr style=\"text-align: right;\">\n",
       "      <th></th>\n",
       "      <th>Ti</th>\n",
       "      <th>RH</th>\n",
       "      <th>Tmr</th>\n",
       "      <th>Va</th>\n",
       "      <th>met</th>\n",
       "      <th>clo</th>\n",
       "    </tr>\n",
       "  </thead>\n",
       "  <tbody>\n",
       "    <tr>\n",
       "      <th>count</th>\n",
       "      <td>2608.000000</td>\n",
       "      <td>2608.000000</td>\n",
       "      <td>2608.000000</td>\n",
       "      <td>2608.000000</td>\n",
       "      <td>2608.000000</td>\n",
       "      <td>2608.000000</td>\n",
       "    </tr>\n",
       "    <tr>\n",
       "      <th>mean</th>\n",
       "      <td>20.625874</td>\n",
       "      <td>67.071547</td>\n",
       "      <td>21.393962</td>\n",
       "      <td>0.177312</td>\n",
       "      <td>1.115537</td>\n",
       "      <td>0.853717</td>\n",
       "    </tr>\n",
       "    <tr>\n",
       "      <th>std</th>\n",
       "      <td>4.918399</td>\n",
       "      <td>11.840747</td>\n",
       "      <td>5.983185</td>\n",
       "      <td>0.270664</td>\n",
       "      <td>0.121375</td>\n",
       "      <td>0.339475</td>\n",
       "    </tr>\n",
       "    <tr>\n",
       "      <th>min</th>\n",
       "      <td>8.200000</td>\n",
       "      <td>30.500000</td>\n",
       "      <td>8.119420</td>\n",
       "      <td>0.000000</td>\n",
       "      <td>0.700000</td>\n",
       "      <td>0.070000</td>\n",
       "    </tr>\n",
       "    <tr>\n",
       "      <th>25%</th>\n",
       "      <td>16.600000</td>\n",
       "      <td>60.400000</td>\n",
       "      <td>16.494298</td>\n",
       "      <td>0.100000</td>\n",
       "      <td>1.100000</td>\n",
       "      <td>0.580000</td>\n",
       "    </tr>\n",
       "    <tr>\n",
       "      <th>50%</th>\n",
       "      <td>20.100000</td>\n",
       "      <td>69.600000</td>\n",
       "      <td>20.991648</td>\n",
       "      <td>0.100000</td>\n",
       "      <td>1.100000</td>\n",
       "      <td>0.790000</td>\n",
       "    </tr>\n",
       "    <tr>\n",
       "      <th>75%</th>\n",
       "      <td>23.700000</td>\n",
       "      <td>75.300000</td>\n",
       "      <td>24.624755</td>\n",
       "      <td>0.100000</td>\n",
       "      <td>1.100000</td>\n",
       "      <td>1.060000</td>\n",
       "    </tr>\n",
       "    <tr>\n",
       "      <th>max</th>\n",
       "      <td>32.500000</td>\n",
       "      <td>94.000000</td>\n",
       "      <td>47.004464</td>\n",
       "      <td>2.200000</td>\n",
       "      <td>3.000000</td>\n",
       "      <td>2.300000</td>\n",
       "    </tr>\n",
       "  </tbody>\n",
       "</table>\n",
       "</div>"
      ],
      "text/plain": [
       "                Ti           RH          Tmr           Va          met  \\\n",
       "count  2608.000000  2608.000000  2608.000000  2608.000000  2608.000000   \n",
       "mean     20.625874    67.071547    21.393962     0.177312     1.115537   \n",
       "std       4.918399    11.840747     5.983185     0.270664     0.121375   \n",
       "min       8.200000    30.500000     8.119420     0.000000     0.700000   \n",
       "25%      16.600000    60.400000    16.494298     0.100000     1.100000   \n",
       "50%      20.100000    69.600000    20.991648     0.100000     1.100000   \n",
       "75%      23.700000    75.300000    24.624755     0.100000     1.100000   \n",
       "max      32.500000    94.000000    47.004464     2.200000     3.000000   \n",
       "\n",
       "               clo  \n",
       "count  2608.000000  \n",
       "mean      0.853717  \n",
       "std       0.339475  \n",
       "min       0.070000  \n",
       "25%       0.580000  \n",
       "50%       0.790000  \n",
       "75%       1.060000  \n",
       "max       2.300000  "
      ]
     },
     "execution_count": 18,
     "metadata": {},
     "output_type": "execute_result"
    }
   ],
   "source": [
    "data.describe()"
   ]
  },
  {
   "cell_type": "code",
   "execution_count": 19,
   "id": "590457ba",
   "metadata": {
    "scrolled": true
   },
   "outputs": [
    {
     "data": {
      "text/plain": [
       "<AxesSubplot:>"
      ]
     },
     "execution_count": 19,
     "metadata": {},
     "output_type": "execute_result"
    },
    {
     "data": {
      "image/png": "[encoded data removed]",
      "text/plain": [
       "<Figure size 864x432 with 1 Axes>"
      ]
     },
     "metadata": {
      "needs_background": "light"
     },
     "output_type": "display_data"
    }
   ],
   "source": [
    "plt.figure(figsize=(12,6))\n",
    "sns.boxplot(data=data)"
   ]
  },
  {
   "cell_type": "markdown",
   "id": "66902791",
   "metadata": {},
   "source": [
    "Dari boxplot di atas, masih terdapat *outlier* pada fitur Tmr, Va, met, dan clo. Untuk mengatasi masalah ini, maka nantinya akan dilakukan standarisasi saat modeling"
   ]
  },
  {
   "cell_type": "markdown",
   "id": "837fdd3f",
   "metadata": {},
   "source": [
    "##### Correlation Matrix"
   ]
  },
  {
   "cell_type": "code",
   "execution_count": 20,
   "id": "df23637b",
   "metadata": {},
   "outputs": [
    {
     "data": {
      "text/plain": [
       "<AxesSubplot:>"
      ]
     },
     "execution_count": 20,
     "metadata": {},
     "output_type": "execute_result"
    },
    {
     "data": {
      "image/png": "[encoded data removed]",
      "text/plain": [
       "<Figure size 432x288 with 2 Axes>"
      ]
     },
     "metadata": {
      "needs_background": "light"
     },
     "output_type": "display_data"
    }
   ],
   "source": [
    "sns.heatmap(data.corr(),annot=True,cmap='rocket_r')"
   ]
  },
  {
   "cell_type": "markdown",
   "id": "ae2a24de",
   "metadata": {},
   "source": [
    "# Classification Modeling"
   ]
  },
  {
   "cell_type": "code",
   "execution_count": 21,
   "id": "b9ba9b8a",
   "metadata": {},
   "outputs": [],
   "source": [
    "from sklearn.preprocessing import StandardScaler\n",
    "from sklearn.model_selection import train_test_split\n",
    "from sklearn.metrics import accuracy_score\n",
    "from sklearn.metrics import classification_report\n",
    "from sklearn.metrics import confusion_matrix, ConfusionMatrixDisplay\n",
    "from sklearn.linear_model import LogisticRegression\n",
    "from sklearn.neighbors import KNeighborsClassifier\n",
    "from sklearn.svm import SVC\n",
    "from sklearn.ensemble import RandomForestClassifier\n",
    "from sklearn.tree import DecisionTreeClassifier\n",
    "from sklearn.naive_bayes import GaussianNB"
   ]
  },
  {
   "cell_type": "markdown",
   "id": "1d724229",
   "metadata": {},
   "source": [
    "### Handling Outlier"
   ]
  },
  {
   "cell_type": "code",
   "execution_count": 22,
   "id": "f50b5d4f",
   "metadata": {},
   "outputs": [
    {
     "data": {
      "text/plain": [
       "array([[ 0.7064886 , -1.51806245,  0.73614584, -0.28569331,  1.10804787,\n",
       "         0.37206598],\n",
       "       [ 0.72682432, -1.46738026,  0.68999542, -0.28569331, -0.95208447,\n",
       "         0.01851101],\n",
       "       [ 0.7064886 , -1.46738026,  0.73614584, -0.28569331, -0.95208447,\n",
       "        -0.0109519 ],\n",
       "       ...,\n",
       "       [-1.30674772, -1.12105192, -1.43720613, -0.28569331, -0.12803154,\n",
       "         0.87293552],\n",
       "       [-1.30674772, -1.00279346, -1.5385541 , -0.28569331, -0.12803154,\n",
       "         0.1952885 ],\n",
       "       [-1.32708344, -0.60578293, -1.38671418, -0.28569331, -0.12803154,\n",
       "         0.60776929]])"
      ]
     },
     "execution_count": 22,
     "metadata": {},
     "output_type": "execute_result"
    }
   ],
   "source": [
    "X = data.iloc[:,:-2]\n",
    "y = data.iloc[:,-1]\n",
    "\n",
    "scaler = StandardScaler()\n",
    "X = scaler.fit_transform(X)\n",
    "X"
   ]
  },
  {
   "cell_type": "markdown",
   "id": "8e619320",
   "metadata": {},
   "source": [
    "### Splitting Data"
   ]
  },
  {
   "cell_type": "code",
   "execution_count": 23,
   "id": "2799db34",
   "metadata": {},
   "outputs": [],
   "source": [
    "X_train, X_test, y_train, y_test = train_test_split(X, y, test_size=0.3, random_state=0)"
   ]
  },
  {
   "cell_type": "code",
   "execution_count": 24,
   "id": "ab8bc119",
   "metadata": {},
   "outputs": [
    {
     "name": "stdout",
     "output_type": "stream",
     "text": [
      "(1825, 6) (783, 6)\n",
      "(1825,) (783,)\n"
     ]
    }
   ],
   "source": [
    "print(X_train.shape, X_test.shape)\n",
    "print(y_train.shape, y_test.shape)"
   ]
  },
  {
   "cell_type": "markdown",
   "id": "e89b68bc",
   "metadata": {},
   "source": [
    "### Models Accuracy"
   ]
  },
  {
   "cell_type": "code",
   "execution_count": 25,
   "id": "8a851985",
   "metadata": {},
   "outputs": [
    {
     "name": "stdout",
     "output_type": "stream",
     "text": [
      "Logistic Regression\n",
      "              precision    recall  f1-score   support\n",
      "\n",
      "        cold       0.53      0.71      0.60       331\n",
      "     neutral       0.46      0.30      0.37       251\n",
      "        warm       0.44      0.38      0.41       201\n",
      "\n",
      "    accuracy                           0.49       783\n",
      "   macro avg       0.48      0.46      0.46       783\n",
      "weighted avg       0.48      0.49      0.48       783\n",
      "\n",
      "KNN\n",
      "              precision    recall  f1-score   support\n",
      "\n",
      "        cold       0.59      0.75      0.66       331\n",
      "     neutral       0.47      0.39      0.43       251\n",
      "        warm       0.54      0.41      0.47       201\n",
      "\n",
      "    accuracy                           0.55       783\n",
      "   macro avg       0.54      0.52      0.52       783\n",
      "weighted avg       0.54      0.55      0.54       783\n",
      "\n",
      "SVM\n",
      "              precision    recall  f1-score   support\n",
      "\n",
      "        cold       0.58      0.71      0.64       331\n",
      "     neutral       0.48      0.42      0.45       251\n",
      "        warm       0.47      0.37      0.42       201\n",
      "\n",
      "    accuracy                           0.53       783\n",
      "   macro avg       0.51      0.50      0.50       783\n",
      "weighted avg       0.52      0.53      0.52       783\n",
      "\n",
      "Random Forest\n",
      "              precision    recall  f1-score   support\n",
      "\n",
      "        cold       0.68      0.74      0.71       331\n",
      "     neutral       0.58      0.54      0.56       251\n",
      "        warm       0.61      0.57      0.59       201\n",
      "\n",
      "    accuracy                           0.63       783\n",
      "   macro avg       0.62      0.62      0.62       783\n",
      "weighted avg       0.63      0.63      0.63       783\n",
      "\n",
      "Decision Tree\n",
      "              precision    recall  f1-score   support\n",
      "\n",
      "        cold       0.64      0.66      0.65       331\n",
      "     neutral       0.46      0.47      0.47       251\n",
      "        warm       0.56      0.51      0.53       201\n",
      "\n",
      "    accuracy                           0.56       783\n",
      "   macro avg       0.55      0.55      0.55       783\n",
      "weighted avg       0.56      0.56      0.56       783\n",
      "\n",
      "Naive Bayes\n",
      "              precision    recall  f1-score   support\n",
      "\n",
      "        cold       0.51      0.71      0.59       331\n",
      "     neutral       0.44      0.37      0.40       251\n",
      "        warm       0.49      0.27      0.35       201\n",
      "\n",
      "    accuracy                           0.49       783\n",
      "   macro avg       0.48      0.45      0.45       783\n",
      "weighted avg       0.48      0.49      0.47       783\n",
      "\n"
     ]
    },
    {
     "data": {
      "text/html": [
       "<div>\n",
       "<style scoped>\n",
       "    .dataframe tbody tr th:only-of-type {\n",
       "        vertical-align: middle;\n",
       "    }\n",
       "\n",
       "    .dataframe tbody tr th {\n",
       "        vertical-align: top;\n",
       "    }\n",
       "\n",
       "    .dataframe thead th {\n",
       "        text-align: right;\n",
       "    }\n",
       "</style>\n",
       "<table border=\"1\" class=\"dataframe\">\n",
       "  <thead>\n",
       "    <tr style=\"text-align: right;\">\n",
       "      <th></th>\n",
       "      <th>Model</th>\n",
       "      <th>Accuracy</th>\n",
       "    </tr>\n",
       "  </thead>\n",
       "  <tbody>\n",
       "    <tr>\n",
       "      <th>0</th>\n",
       "      <td>Logistic Regression</td>\n",
       "      <td>0.492976</td>\n",
       "    </tr>\n",
       "    <tr>\n",
       "      <th>1</th>\n",
       "      <td>KNN</td>\n",
       "      <td>0.549170</td>\n",
       "    </tr>\n",
       "    <tr>\n",
       "      <th>2</th>\n",
       "      <td>SVM</td>\n",
       "      <td>0.531290</td>\n",
       "    </tr>\n",
       "    <tr>\n",
       "      <th>3</th>\n",
       "      <td>Random Forest</td>\n",
       "      <td>0.632184</td>\n",
       "    </tr>\n",
       "    <tr>\n",
       "      <th>4</th>\n",
       "      <td>Decision Tree</td>\n",
       "      <td>0.563218</td>\n",
       "    </tr>\n",
       "    <tr>\n",
       "      <th>5</th>\n",
       "      <td>Naive Bayes</td>\n",
       "      <td>0.486590</td>\n",
       "    </tr>\n",
       "  </tbody>\n",
       "</table>\n",
       "</div>"
      ],
      "text/plain": [
       "                 Model  Accuracy\n",
       "0  Logistic Regression  0.492976\n",
       "1                  KNN  0.549170\n",
       "2                  SVM  0.531290\n",
       "3        Random Forest  0.632184\n",
       "4        Decision Tree  0.563218\n",
       "5          Naive Bayes  0.486590"
      ]
     },
     "execution_count": 25,
     "metadata": {},
     "output_type": "execute_result"
    }
   ],
   "source": [
    "modelsAccuracy = pd.DataFrame(columns=['Model', 'Accuracy'])\n",
    "\n",
    "models = [('Logistic Regression', LogisticRegression()),\n",
    "          ('KNN', KNeighborsClassifier()),\n",
    "          ('SVM', SVC()),\n",
    "          ('Random Forest', RandomForestClassifier()),\n",
    "          ('Decision Tree', DecisionTreeClassifier()),\n",
    "          ('Naive Bayes', GaussianNB())]\n",
    "\n",
    "for name, model in models:\n",
    "    model.fit(X_train, y_train)\n",
    "    y_pred = model.predict(X_test)\n",
    "    accuracy = accuracy_score(y_pred, y_test)\n",
    "\n",
    "    modelsAccuracy = modelsAccuracy.append({'Model': name, 'Accuracy': accuracy}, ignore_index=True)\n",
    "    \n",
    "    report = classification_report(y_test, y_pred)\n",
    "    print(f'{name}\\n{report}')\n",
    "    \n",
    "modelsAccuracy"
   ]
  },
  {
   "cell_type": "markdown",
   "id": "71c0a668",
   "metadata": {},
   "source": [
    "### Accuracy, Sensitivity, Specificity"
   ]
  },
  {
   "cell_type": "markdown",
   "id": "ab812024",
   "metadata": {},
   "source": [
    "##### Class Accuracy"
   ]
  },
  {
   "cell_type": "code",
   "execution_count": 26,
   "id": "bd2642fb",
   "metadata": {},
   "outputs": [
    {
     "data": {
      "text/html": [
       "<div>\n",
       "<style scoped>\n",
       "    .dataframe tbody tr th:only-of-type {\n",
       "        vertical-align: middle;\n",
       "    }\n",
       "\n",
       "    .dataframe tbody tr th {\n",
       "        vertical-align: top;\n",
       "    }\n",
       "\n",
       "    .dataframe thead th {\n",
       "        text-align: right;\n",
       "    }\n",
       "</style>\n",
       "<table border=\"1\" class=\"dataframe\">\n",
       "  <thead>\n",
       "    <tr style=\"text-align: right;\">\n",
       "      <th></th>\n",
       "      <th>Model</th>\n",
       "      <th>cold</th>\n",
       "      <th>neutral</th>\n",
       "      <th>warm</th>\n",
       "    </tr>\n",
       "  </thead>\n",
       "  <tbody>\n",
       "    <tr>\n",
       "      <th>0</th>\n",
       "      <td>Logistic Regression</td>\n",
       "      <td>0.706949</td>\n",
       "      <td>0.302789</td>\n",
       "      <td>0.378109</td>\n",
       "    </tr>\n",
       "    <tr>\n",
       "      <th>1</th>\n",
       "      <td>KNN</td>\n",
       "      <td>0.752266</td>\n",
       "      <td>0.394422</td>\n",
       "      <td>0.407960</td>\n",
       "    </tr>\n",
       "    <tr>\n",
       "      <th>2</th>\n",
       "      <td>SVM</td>\n",
       "      <td>0.709970</td>\n",
       "      <td>0.422311</td>\n",
       "      <td>0.373134</td>\n",
       "    </tr>\n",
       "    <tr>\n",
       "      <th>3</th>\n",
       "      <td>Random Forest</td>\n",
       "      <td>0.731118</td>\n",
       "      <td>0.573705</td>\n",
       "      <td>0.567164</td>\n",
       "    </tr>\n",
       "    <tr>\n",
       "      <th>4</th>\n",
       "      <td>Decision Tree</td>\n",
       "      <td>0.673716</td>\n",
       "      <td>0.490040</td>\n",
       "      <td>0.512438</td>\n",
       "    </tr>\n",
       "    <tr>\n",
       "      <th>5</th>\n",
       "      <td>Naive Bayes</td>\n",
       "      <td>0.706949</td>\n",
       "      <td>0.366534</td>\n",
       "      <td>0.273632</td>\n",
       "    </tr>\n",
       "  </tbody>\n",
       "</table>\n",
       "</div>"
      ],
      "text/plain": [
       "                 Model      cold   neutral      warm\n",
       "0  Logistic Regression  0.706949  0.302789  0.378109\n",
       "1                  KNN  0.752266  0.394422  0.407960\n",
       "2                  SVM  0.709970  0.422311  0.373134\n",
       "3        Random Forest  0.731118  0.573705  0.567164\n",
       "4        Decision Tree  0.673716  0.490040  0.512438\n",
       "5          Naive Bayes  0.706949  0.366534  0.273632"
      ]
     },
     "execution_count": 26,
     "metadata": {},
     "output_type": "execute_result"
    }
   ],
   "source": [
    "classAcc = pd.DataFrame(columns=['Model','cold','neutral','warm'])\n",
    "\n",
    "for name, model in models:\n",
    "    model.fit(X_train, y_train)\n",
    "    y_pred = model.predict(X_test)\n",
    "    \n",
    "    cm = confusion_matrix(y_test, y_pred)\n",
    "    acc = cm.diagonal()/cm.sum(axis=1)\n",
    "    \n",
    "    classAcc = classAcc.append({'Model':name,'cold':acc[0],'neutral':acc[1],'warm':acc[2]}, ignore_index=True)\n",
    "\n",
    "classAcc"
   ]
  },
  {
   "cell_type": "markdown",
   "id": "a1c8f2cc",
   "metadata": {},
   "source": [
    "##### Sensitivity & Specificity"
   ]
  },
  {
   "cell_type": "code",
   "execution_count": 27,
   "id": "a9604d5b",
   "metadata": {},
   "outputs": [
    {
     "name": "stdout",
     "output_type": "stream",
     "text": [
      "Logistic Regression\n",
      "     Class  Sensitivity  Specificity\n",
      "0     Cold     0.706949     0.418733\n",
      "1  Neutral     0.302789     0.778894\n",
      "2     Warm     0.378109     0.759804\n",
      "Overall sensitivity : 0.46261564594707205\n",
      "Overall specificity : 0.6524770587665275\n",
      "\n",
      "KNN\n",
      "     Class  Sensitivity  Specificity\n",
      "0     Cold     0.752266     0.509859\n",
      "1  Neutral     0.394422     0.750567\n",
      "2     Warm     0.407960     0.834532\n",
      "Overall sensitivity : 0.5182161235963791\n",
      "Overall specificity : 0.6983194741514445\n",
      "\n",
      "SVM\n",
      "     Class  Sensitivity  Specificity\n",
      "0     Cold     0.709970     0.518625\n",
      "1  Neutral     0.422311     0.729412\n",
      "2     Warm     0.373134     0.802353\n",
      "Overall sensitivity : 0.501804957949986\n",
      "Overall specificity : 0.683463115905388\n",
      "\n",
      "Random Forest\n",
      "     Class  Sensitivity  Specificity\n",
      "0     Cold     0.743202     0.697802\n",
      "1  Neutral     0.561753     0.787281\n",
      "2     Warm     0.562189     0.835853\n",
      "Overall sensitivity : 0.622381486564202\n",
      "Overall specificity : 0.7736453437686812\n",
      "\n",
      "Decision Tree\n",
      "     Class  Sensitivity  Specificity\n",
      "0     Cold     0.664653     0.632479\n",
      "1  Neutral     0.482072     0.700873\n",
      "2     Warm     0.502488     0.819712\n",
      "Overall sensitivity : 0.5497372811040987\n",
      "Overall specificity : 0.717687844461862\n",
      "\n",
      "Naive Bayes\n",
      "     Class  Sensitivity  Specificity\n",
      "0     Cold     0.706949     0.393048\n",
      "1  Neutral     0.366534     0.711823\n",
      "2     Warm     0.273632     0.848958\n",
      "Overall sensitivity : 0.44903811527374543\n",
      "Overall specificity : 0.6512763739247006\n",
      "\n"
     ]
    }
   ],
   "source": [
    "for name, model in models:\n",
    "    model.fit(X_train, y_train)\n",
    "    y_pred = model.predict(X_test)\n",
    "    cm = confusion_matrix(y_test, y_pred)\n",
    "    \n",
    "    # position\n",
    "    n11 = cm[0][0]\n",
    "    n12 = cm[0][1]\n",
    "    n13 = cm[0][2]\n",
    "    n21 = cm[1][0]\n",
    "    n22 = cm[1][1]\n",
    "    n23 = cm[1][2]\n",
    "    n31 = cm[2][0]\n",
    "    n32 = cm[2][1]\n",
    "    n33 = cm[2][2]\n",
    "    \n",
    "    # sensitivity's formula\n",
    "    s1 = n11/(n11+n12+n13)\n",
    "    s2 = n22/(n21+n22+n23)\n",
    "    s3 = n33/(n31+n32+n33)\n",
    "    \n",
    "    # specificity's formula\n",
    "    c1 = (n22 + n33)/(n21+n31+n22+n33)\n",
    "    c2 = (n11 + n33)/(n12+n32+n11+n33)\n",
    "    c3 = (n11 + n22)/(n13+n23+n11+n22)\n",
    "        \n",
    "    senSpec = pd.DataFrame({'Class':['Cold','Neutral','Warm'],\n",
    "                             'Sensitivity':[s1, s2, s3],\n",
    "                             'Specificity':[c1, c2, c3]})\n",
    "    sensitivity = (s1+s2+s3)/3\n",
    "    specificity = (c1+c2+c3)/3\n",
    "    \n",
    "    print(f'{name}\\n{senSpec}')\n",
    "    print(f'Overall sensitivity : {sensitivity}')\n",
    "    print(f'Overall specificity : {specificity}\\n')"
   ]
  },
  {
   "cell_type": "markdown",
   "id": "6c83e505",
   "metadata": {},
   "source": [
    "### Confusion Matrix"
   ]
  },
  {
   "cell_type": "code",
   "execution_count": 28,
   "id": "0b5c2748",
   "metadata": {
    "scrolled": false
   },
   "outputs": [
    {
     "data": {
      "image/png": "[encoded data removed]",
      "text/plain": [
       "<Figure size 432x288 with 2 Axes>"
      ]
     },
     "metadata": {
      "needs_background": "light"
     },
     "output_type": "display_data"
    },
    {
     "data": {
      "image/png": "[encoded data removed]",
      "text/plain": [
       "<Figure size 432x288 with 2 Axes>"
      ]
     },
     "metadata": {
      "needs_background": "light"
     },
     "output_type": "display_data"
    },
    {
     "data": {
      "image/png": "[encoded data removed]",
      "text/plain": [
       "<Figure size 432x288 with 2 Axes>"
      ]
     },
     "metadata": {
      "needs_background": "light"
     },
     "output_type": "display_data"
    },
    {
     "data": {
      "image/png": "[encoded data removed]",
      "text/plain": [
       "<Figure size 432x288 with 2 Axes>"
      ]
     },
     "metadata": {
      "needs_background": "light"
     },
     "output_type": "display_data"
    },
    {
     "data": {
      "image/png": "[encoded data removed]",
      "text/plain": [
       "<Figure size 432x288 with 2 Axes>"
      ]
     },
     "metadata": {
      "needs_background": "light"
     },
     "output_type": "display_data"
    },
    {
     "data": {
      "image/png": "[encoded data removed]",
      "text/plain": [
       "<Figure size 432x288 with 2 Axes>"
      ]
     },
     "metadata": {
      "needs_background": "light"
     },
     "output_type": "display_data"
    }
   ],
   "source": [
    "for name, model in models:\n",
    "    model.fit(X_train, y_train)\n",
    "    y_pred = model.predict(X_test)\n",
    "    \n",
    "    cm = confusion_matrix(y_test, y_pred)\n",
    "    disp = ConfusionMatrixDisplay(confusion_matrix=cm, display_labels=['cold','neutral','warm'])\n",
    "    \n",
    "    disp.plot(cmap='Blues')\n",
    "    plt.title(name)"
   ]
  },
  {
   "cell_type": "markdown",
   "id": "6be56b85",
   "metadata": {},
   "source": [
    "# Cross Validation"
   ]
  },
  {
   "cell_type": "markdown",
   "id": "21e8189b",
   "metadata": {},
   "source": [
    "Metode CV ini hanya dipakai untuk coba-coba saja. Sedangkan metode coba-coba untuk hyperparameter tuning tidak ditampilkan karena tidak tersimpan"
   ]
  },
  {
   "cell_type": "code",
   "execution_count": 29,
   "id": "74c2f244",
   "metadata": {},
   "outputs": [],
   "source": [
    "from sklearn.model_selection import cross_val_score"
   ]
  },
  {
   "cell_type": "code",
   "execution_count": 30,
   "id": "4962ee6e",
   "metadata": {},
   "outputs": [
    {
     "name": "stdout",
     "output_type": "stream",
     "text": [
      "Logistic Regression : [0.27969349 0.28735632 0.60536398 0.62452107 0.39846743 0.67816092\n",
      " 0.5440613  0.42528736 0.43076923 0.43076923]\n",
      "KNN : [0.31800766 0.3256705  0.40613027 0.34099617 0.43678161 0.47126437\n",
      " 0.44061303 0.4137931  0.41923077 0.47307692]\n",
      "SVM : [0.27586207 0.28735632 0.63218391 0.39846743 0.49425287 0.70114943\n",
      " 0.51724138 0.46360153 0.48461538 0.5       ]\n",
      "Random Forest : [0.34099617 0.24904215 0.2835249  0.27203065 0.45210728 0.39463602\n",
      " 0.36398467 0.4137931  0.43846154 0.50384615]\n",
      "Decision Tree : [0.33716475 0.2835249  0.26819923 0.31034483 0.50574713 0.25287356\n",
      " 0.41762452 0.44061303 0.43846154 0.47307692]\n",
      "Naive Bayes : [0.31417625 0.29118774 0.70114943 0.7394636  0.38697318 0.69731801\n",
      " 0.51340996 0.49425287 0.43076923 0.45      ]\n"
     ]
    },
    {
     "data": {
      "text/html": [
       "<div>\n",
       "<style scoped>\n",
       "    .dataframe tbody tr th:only-of-type {\n",
       "        vertical-align: middle;\n",
       "    }\n",
       "\n",
       "    .dataframe tbody tr th {\n",
       "        vertical-align: top;\n",
       "    }\n",
       "\n",
       "    .dataframe thead th {\n",
       "        text-align: right;\n",
       "    }\n",
       "</style>\n",
       "<table border=\"1\" class=\"dataframe\">\n",
       "  <thead>\n",
       "    <tr style=\"text-align: right;\">\n",
       "      <th></th>\n",
       "      <th>Model</th>\n",
       "      <th>Cross Val Score</th>\n",
       "    </tr>\n",
       "  </thead>\n",
       "  <tbody>\n",
       "    <tr>\n",
       "      <th>0</th>\n",
       "      <td>Logistic Regression</td>\n",
       "      <td>0.470445</td>\n",
       "    </tr>\n",
       "    <tr>\n",
       "      <th>1</th>\n",
       "      <td>KNN</td>\n",
       "      <td>0.404556</td>\n",
       "    </tr>\n",
       "    <tr>\n",
       "      <th>2</th>\n",
       "      <td>SVM</td>\n",
       "      <td>0.475473</td>\n",
       "    </tr>\n",
       "    <tr>\n",
       "      <th>3</th>\n",
       "      <td>Random Forest</td>\n",
       "      <td>0.371242</td>\n",
       "    </tr>\n",
       "    <tr>\n",
       "      <th>4</th>\n",
       "      <td>Decision Tree</td>\n",
       "      <td>0.372763</td>\n",
       "    </tr>\n",
       "    <tr>\n",
       "      <th>5</th>\n",
       "      <td>Naive Bayes</td>\n",
       "      <td>0.501870</td>\n",
       "    </tr>\n",
       "  </tbody>\n",
       "</table>\n",
       "</div>"
      ],
      "text/plain": [
       "                 Model  Cross Val Score\n",
       "0  Logistic Regression         0.470445\n",
       "1                  KNN         0.404556\n",
       "2                  SVM         0.475473\n",
       "3        Random Forest         0.371242\n",
       "4        Decision Tree         0.372763\n",
       "5          Naive Bayes         0.501870"
      ]
     },
     "execution_count": 30,
     "metadata": {},
     "output_type": "execute_result"
    }
   ],
   "source": [
    "scoreCV = pd.DataFrame(columns=['Model', 'Cross Val Score'])\n",
    "\n",
    "for name, model in models:\n",
    "    score = cross_val_score(model, X, y, cv=10, scoring='accuracy')\n",
    "    print(f'{name} : {score}')\n",
    "    \n",
    "    scoreCV = scoreCV.append({'Model':name, 'Cross Val Score':score.mean()}, ignore_index=True)\n",
    "\n",
    "scoreCV"
   ]
  },
  {
   "cell_type": "code",
   "execution_count": null,
   "id": "185a7be1",
   "metadata": {},
   "outputs": [],
   "source": []
  }
 ],
 "metadata": {
  "kernelspec": {
   "display_name": "anaconda",
   "language": "python",
   "name": "anaconda"
  },
  "language_info": {
   "codemirror_mode": {
    "name": "ipython",
    "version": 3
   },
   "file_extension": ".py",
   "mimetype": "text/x-python",
   "name": "python",
   "nbconvert_exporter": "python",
   "pygments_lexer": "ipython3",
   "version": "3.8.12"
  }
 },
 "nbformat": 4,
 "nbformat_minor": 5
}
