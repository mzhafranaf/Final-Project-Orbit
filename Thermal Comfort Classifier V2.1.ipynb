{
 "cells": [
  {
   "cell_type": "markdown",
   "id": "1005f09f",
   "metadata": {},
   "source": [
    "# Thermal Comfort Classifier V3.0\n",
    "###### by Muhammad Zhafran A F, Danang Wahyu K, and Haidar Alghazian A"
   ]
  },
  {
   "cell_type": "markdown",
   "id": "7454a2c9",
   "metadata": {},
   "source": [
    "What's new?\n",
    "* Using all features first to evaluate models\n",
    "* Feature Importance\n",
    "* Model evaluation using top features in feature importance"
   ]
  },
  {
   "cell_type": "markdown",
   "id": "7cfb687b",
   "metadata": {},
   "source": [
    "## Data Acquisition"
   ]
  },
  {
   "cell_type": "code",
   "execution_count": null,
   "id": "5578761d",
   "metadata": {},
   "outputs": [],
   "source": [
    "import pandas as pd"
   ]
  },
  {
   "cell_type": "code",
   "execution_count": null,
   "id": "7c4436c8",
   "metadata": {},
   "outputs": [],
   "source": [
    "url = \"https://raw.githubusercontent.com/mzhafranaf/Final-Project-Orbit/main/darjeeling.csv\"\n",
    "dataset = pd.read_csv(url)"
   ]
  },
  {
   "cell_type": "code",
   "execution_count": null,
   "id": "ee20e658",
   "metadata": {},
   "outputs": [],
   "source": [
    "dataset.head()"
   ]
  },
  {
   "cell_type": "code",
   "execution_count": null,
   "id": "c22b80a2",
   "metadata": {},
   "outputs": [],
   "source": [
    "dataset.info()"
   ]
  },
  {
   "cell_type": "markdown",
   "id": "3bac2b4f",
   "metadata": {},
   "source": [
    "## Data Cleaning"
   ]
  },
  {
   "cell_type": "code",
   "execution_count": null,
   "id": "4bffa535",
   "metadata": {
    "scrolled": true
   },
   "outputs": [],
   "source": [
    "dataset.isnull().sum()"
   ]
  },
  {
   "cell_type": "markdown",
   "id": "b6ad9a8a",
   "metadata": {},
   "source": [
    "There's unnamed feature that should remove from our data"
   ]
  },
  {
   "cell_type": "code",
   "execution_count": null,
   "id": "78cb3548",
   "metadata": {
    "scrolled": true
   },
   "outputs": [],
   "source": [
    "dataset.drop(dataset.columns[dataset.columns.str.contains('unnamed',case = False)],axis = 1, inplace = True)\n",
    "dataset.info()"
   ]
  },
  {
   "cell_type": "markdown",
   "id": "5d446562",
   "metadata": {},
   "source": [
    "There's some numeric features that's declared as object type. So, we should convert it to float64 type."
   ]
  },
  {
   "cell_type": "code",
   "execution_count": null,
   "id": "8882b0ad",
   "metadata": {},
   "outputs": [],
   "source": [
    "data = dataset.dropna()\n",
    "#data"
   ]
  },
  {
   "cell_type": "code",
   "execution_count": null,
   "id": "31c57a20",
   "metadata": {},
   "outputs": [],
   "source": [
    "# remove Location and Subject Code\n",
    "data = data.drop(['Location','Subject Code'], axis=1)"
   ]
  },
  {
   "cell_type": "code",
   "execution_count": null,
   "id": "b09876c3",
   "metadata": {
    "scrolled": true
   },
   "outputs": [],
   "source": [
    "objectFeatures = ['TP','air_ts', 'air_tp', 'comfort', 'prod', 'TA', 'Uphols', 'sh_sw']\n",
    "\n",
    "for i in objectFeatures:\n",
    "    data[i] = pd.to_numeric(data[i],errors = 'coerce')\n",
    "data.info()"
   ]
  },
  {
   "cell_type": "code",
   "execution_count": null,
   "id": "4a3b082b",
   "metadata": {
    "scrolled": true
   },
   "outputs": [],
   "source": [
    "data.isnull().sum()"
   ]
  },
  {
   "cell_type": "code",
   "execution_count": null,
   "id": "2b998328",
   "metadata": {},
   "outputs": [],
   "source": [
    "data = data.dropna()"
   ]
  },
  {
   "cell_type": "markdown",
   "id": "966ce79f",
   "metadata": {},
   "source": [
    "Because we want to focused on TSV, we should know how many data for each class in TSV"
   ]
  },
  {
   "cell_type": "code",
   "execution_count": null,
   "id": "992cef77",
   "metadata": {
    "scrolled": true
   },
   "outputs": [],
   "source": [
    "data.TSV.unique()"
   ]
  },
  {
   "cell_type": "code",
   "execution_count": null,
   "id": "318c99fc",
   "metadata": {
    "scrolled": true
   },
   "outputs": [],
   "source": [
    "data['TSV'].value_counts()"
   ]
  },
  {
   "cell_type": "code",
   "execution_count": null,
   "id": "42d3d462",
   "metadata": {},
   "outputs": [],
   "source": [
    "import matplotlib.pyplot as plt\n",
    "import seaborn as sns\n",
    "import numpy as np"
   ]
  },
  {
   "cell_type": "code",
   "execution_count": null,
   "id": "079da015",
   "metadata": {},
   "outputs": [],
   "source": [
    "sns.countplot(x='TSV', data=data, order=data.TSV.unique().sort())"
   ]
  },
  {
   "cell_type": "code",
   "execution_count": null,
   "id": "c1fc7cc0",
   "metadata": {},
   "outputs": [],
   "source": [
    "# data.TSV.replace({-3 : 0,-2 : 0,-1 : 0,0 : 1,1 : 2,2 : 2,3 : 2}, inplace=True)"
   ]
  },
  {
   "cell_type": "markdown",
   "id": "a14cd45c",
   "metadata": {},
   "source": [
    "## Data Exploration"
   ]
  },
  {
   "cell_type": "code",
   "execution_count": null,
   "id": "fcab6577",
   "metadata": {},
   "outputs": [],
   "source": [
    "\"\"\"\n",
    "Explore data on 3 section\n",
    "1. Full Data --> all of parameter in dataset\n",
    "2. Main Data --> only 6 parameter (ASHRAE-55)\n",
    "3. Others Data --> exclude main parameter\n",
    "\"\"\"\n",
    "main_parameter = [\"Ti\", \"RH\", \"Tmr\", \"Va\", \"met\", \"clo\"]\n",
    "target_label = [\"TSV\"]\n",
    "others_parameter = []\n",
    "for i in data.columns:\n",
    "    if i not in (main_parameter+target_label):\n",
    "        others_parameter.append(i)\n",
    "            \n",
    "full_data = data[main_parameter + others_parameter + target_label]\n",
    "main_data = data[main_parameter + target_label]\n",
    "others_data = data[others_parameter + target_label]"
   ]
  },
  {
   "cell_type": "markdown",
   "id": "a0b84263",
   "metadata": {},
   "source": [
    "### Statistic"
   ]
  },
  {
   "cell_type": "code",
   "execution_count": null,
   "id": "f95d371f",
   "metadata": {},
   "outputs": [],
   "source": [
    "full_data.describe()"
   ]
  },
  {
   "cell_type": "code",
   "execution_count": null,
   "id": "0ffaed26",
   "metadata": {},
   "outputs": [],
   "source": [
    "main_data.describe()"
   ]
  },
  {
   "cell_type": "code",
   "execution_count": null,
   "id": "46cb2b10",
   "metadata": {},
   "outputs": [],
   "source": [
    "others_data.describe()"
   ]
  },
  {
   "cell_type": "markdown",
   "id": "0e6a9a26",
   "metadata": {},
   "source": [
    "#### Outlier Analysis"
   ]
  },
  {
   "cell_type": "code",
   "execution_count": null,
   "id": "e03bd9ef",
   "metadata": {},
   "outputs": [],
   "source": [
    "plt.figure(figsize=(12,8))\n",
    "plt.title(\"Full Data Boxplot\", size=18)\n",
    "sns.boxplot(data=full_data)"
   ]
  },
  {
   "cell_type": "code",
   "execution_count": null,
   "id": "5f4b2271",
   "metadata": {},
   "outputs": [],
   "source": [
    "plt.figure(figsize=(12,8))\n",
    "plt.title(\"Main Data Boxplot\", size=18)\n",
    "sns.boxplot(data=main_data)"
   ]
  },
  {
   "cell_type": "code",
   "execution_count": null,
   "id": "bce63856",
   "metadata": {},
   "outputs": [],
   "source": [
    "plt.figure(figsize=(12,8))\n",
    "plt.title(\"Others Data Boxplot\", size=18)\n",
    "sns.boxplot(data=others_data)"
   ]
  },
  {
   "cell_type": "markdown",
   "id": "747706ae",
   "metadata": {},
   "source": [
    "### Correation Matrix"
   ]
  },
  {
   "cell_type": "markdown",
   "id": "1d48a3e1",
   "metadata": {},
   "source": [
    "#### Full"
   ]
  },
  {
   "cell_type": "code",
   "execution_count": null,
   "id": "3fc7084a",
   "metadata": {},
   "outputs": [],
   "source": [
    "plt.figure(figsize=(20,12))\n",
    "cor = full_data.corr()\n",
    "sns.heatmap(cor,annot=True,cmap='rocket_r')"
   ]
  },
  {
   "cell_type": "code",
   "execution_count": null,
   "id": "8a0ef299",
   "metadata": {
    "scrolled": true
   },
   "outputs": [],
   "source": [
    "#Correlation with output variable\n",
    "cor_target = abs(cor[\"TSV\"])\n",
    "\n",
    "#Selecting highly correlated features\n",
    "# relevant_features = cor_target[cor_target>0.5]\n",
    "relevant_features = cor_target[cor_target>0.3]\n",
    "relevant_features"
   ]
  },
  {
   "cell_type": "markdown",
   "id": "15729fea",
   "metadata": {},
   "source": [
    "#### Main"
   ]
  },
  {
   "cell_type": "code",
   "execution_count": null,
   "id": "1b515a00",
   "metadata": {},
   "outputs": [],
   "source": [
    "plt.figure(figsize=(12,6))\n",
    "cor = main_data.corr()\n",
    "sns.heatmap(cor,annot=True,cmap='rocket_r')"
   ]
  },
  {
   "cell_type": "code",
   "execution_count": null,
   "id": "b35f7e52",
   "metadata": {},
   "outputs": [],
   "source": [
    "#Correlation with output variable\n",
    "cor_target = abs(cor[\"TSV\"])\n",
    "\n",
    "#Selecting highly correlated features\n",
    "# relevant_features = cor_target[cor_target>0.5]\n",
    "relevant_features = cor_target[cor_target>0.3]\n",
    "relevant_features"
   ]
  },
  {
   "cell_type": "markdown",
   "id": "72bad6dd",
   "metadata": {},
   "source": [
    "#### Others"
   ]
  },
  {
   "cell_type": "code",
   "execution_count": null,
   "id": "cca030b9",
   "metadata": {},
   "outputs": [],
   "source": [
    "plt.figure(figsize=(16,9))\n",
    "cor = others_data.corr()\n",
    "sns.heatmap(cor,annot=True,cmap='rocket_r')"
   ]
  },
  {
   "cell_type": "code",
   "execution_count": null,
   "id": "18853e72",
   "metadata": {},
   "outputs": [],
   "source": [
    "#Correlation with output variable\n",
    "cor_target = abs(cor[\"TSV\"])\n",
    "\n",
    "#Selecting highly correlated features\n",
    "# relevant_features = cor_target[cor_target>0.5]\n",
    "relevant_features = cor_target[cor_target>0.3]\n",
    "relevant_features"
   ]
  },
  {
   "cell_type": "markdown",
   "id": "6622c8a0",
   "metadata": {},
   "source": [
    "# Classification"
   ]
  },
  {
   "cell_type": "code",
   "execution_count": null,
   "id": "cb1daed2",
   "metadata": {},
   "outputs": [],
   "source": [
    "from sklearn.preprocessing import StandardScaler\n",
    "from sklearn.preprocessing import MinMaxScaler\n",
    "from sklearn.model_selection import train_test_split\n",
    "\n",
    "from sklearn.metrics import accuracy_score\n",
    "from sklearn.metrics import classification_report\n",
    "from sklearn.metrics import confusion_matrix, ConfusionMatrixDisplay\n",
    "\n",
    "from sklearn.linear_model import LogisticRegression\n",
    "from sklearn.neighbors import KNeighborsClassifier\n",
    "from sklearn.svm import SVC\n",
    "from sklearn.ensemble import RandomForestClassifier\n",
    "from sklearn.ensemble import AdaBoostClassifier\n",
    "from sklearn.ensemble import BaggingClassifier\n",
    "from sklearn.ensemble import ExtraTreesClassifier\n",
    "from sklearn.tree import DecisionTreeClassifier\n",
    "from sklearn.naive_bayes import GaussianNB\n",
    "\n",
    "from sklearn.inspection import permutation_importance"
   ]
  },
  {
   "cell_type": "markdown",
   "id": "22b54b41",
   "metadata": {},
   "source": [
    "## Standarization"
   ]
  },
  {
   "cell_type": "code",
   "execution_count": null,
   "id": "162e63b5",
   "metadata": {},
   "outputs": [],
   "source": [
    "scaler = StandardScaler()\n",
    "\n",
    "#Full data\n",
    "y_full = full_data[['TSV']].values.ravel()\n",
    "X_full = full_data.drop(['TSV'], axis=1)\n",
    "\n",
    "X_full = pd.DataFrame(scaler.fit_transform(X),columns = X.columns)\n",
    "\n",
    "\n",
    "#Main data\n",
    "y_main = main_data[['TSV']].values.ravel()\n",
    "X_main = main_data.drop(['TSV'], axis=1)\n",
    "\n",
    "X_main = pd.DataFrame(scaler.fit_transform(X),columns = X.columns)\n",
    "\n",
    "\n",
    "#Others data\n",
    "y_main = others_data[['TSV']].values.ravel()\n",
    "X_main = others_data.drop(['TSV'], axis=1)\n",
    "\n",
    "X_others = pd.DataFrame(scaler.fit_transform(X),columns = X.columns)"
   ]
  },
  {
   "cell_type": "markdown",
   "id": "0a3da0e7",
   "metadata": {},
   "source": [
    "## Splitting Data"
   ]
  },
  {
   "cell_type": "code",
   "execution_count": null,
   "id": "a9e91b23",
   "metadata": {},
   "outputs": [],
   "source": [
    "X_full_train, X_full_test, y_full_train, y_full_test = train_test_split(X, y, test_size=0.3, random_state=42)\n",
    "\n",
    "print(X_full_train.shape, X_full_test.shape)\n",
    "print(y_full_train.shape, y_full_test.shape)"
   ]
  },
  {
   "cell_type": "code",
   "execution_count": null,
   "id": "32045b1f",
   "metadata": {
    "scrolled": true
   },
   "outputs": [],
   "source": [
    "X_main_train, X_main_test, y_main_train, y_main_test = train_test_split(X, y, test_size=0.3, random_state=42)\n",
    "\n",
    "print(X_main_train.shape, X_main_test.shape)\n",
    "print(y_main_train.shape, y_main_test.shape)"
   ]
  },
  {
   "cell_type": "code",
   "execution_count": null,
   "id": "0d6b0a6b",
   "metadata": {
    "scrolled": true
   },
   "outputs": [],
   "source": [
    "X_others_train, X_others_test, y_others_train, y_others_test = train_test_split(X, y, test_size=0.3, random_state=42)\n",
    "\n",
    "print(X_others_train.shape, X_others_test.shape)\n",
    "print(y_others_train.shape, y_others_test.shape)"
   ]
  },
  {
   "cell_type": "markdown",
   "id": "800bdd3e",
   "metadata": {},
   "source": [
    "## Modeling"
   ]
  },
  {
   "cell_type": "code",
   "execution_count": null,
   "id": "4fa319be",
   "metadata": {},
   "outputs": [],
   "source": [
    "model = RandomForestClassifier()"
   ]
  },
  {
   "cell_type": "markdown",
   "id": "0a8dd8a7",
   "metadata": {},
   "source": [
    "### Full Data"
   ]
  },
  {
   "cell_type": "code",
   "execution_count": null,
   "id": "7cdd168e",
   "metadata": {},
   "outputs": [],
   "source": [
    "model.fit(X_full_train, y_full_train)\n",
    "y_full_pred = model.predict(X_full_test)"
   ]
  },
  {
   "cell_type": "code",
   "execution_count": null,
   "id": "0d7f647e",
   "metadata": {},
   "outputs": [],
   "source": [
    "print(classification_report(y_full_test, y_full_pred))"
   ]
  },
  {
   "cell_type": "code",
   "execution_count": null,
   "id": "6bcdd16d",
   "metadata": {},
   "outputs": [],
   "source": [
    "cm = confusion_matrix(y_full_test, y_pred_full)\n",
    "sns.heatmap(cm, cmap ='Blues', annot =True, fmt='g')"
   ]
  },
  {
   "cell_type": "markdown",
   "id": "60d1943c",
   "metadata": {},
   "source": [
    "#### Permutation Importance"
   ]
  },
  {
   "cell_type": "code",
   "execution_count": null,
   "id": "95d355bc",
   "metadata": {},
   "outputs": [],
   "source": [
    "#pip install eli5\n",
    "from eli5 import show_weights\n",
    "from eli5.sklearn import PermutationImportance"
   ]
  },
  {
   "cell_type": "code",
   "execution_count": null,
   "id": "32eac732",
   "metadata": {},
   "outputs": [],
   "source": [
    "perm = PermutationImportance(model, random_state=1).fit(X_full_test, y_full_test)\n",
    "show_weights(perm, feature_names = list(X_full_test.columns))"
   ]
  },
  {
   "cell_type": "markdown",
   "id": "0cd4178e",
   "metadata": {},
   "source": [
    "## Main Data"
   ]
  },
  {
   "cell_type": "code",
   "execution_count": null,
   "id": "32330408",
   "metadata": {},
   "outputs": [],
   "source": [
    "model.fit(X_main_train, y_main_train)\n",
    "y_main_pred = model.predict(X_main_test)"
   ]
  },
  {
   "cell_type": "code",
   "execution_count": null,
   "id": "564c20b5",
   "metadata": {},
   "outputs": [],
   "source": [
    "print(classification_report(y_main_test, y_main_pred))"
   ]
  },
  {
   "cell_type": "code",
   "execution_count": null,
   "id": "c226b02a",
   "metadata": {},
   "outputs": [],
   "source": [
    "cm = confusion_matrix(y_main_test, y_main_pred)\n",
    "sns.heatmap(cm, cmap ='Blues', annot =True, fmt='g')"
   ]
  },
  {
   "cell_type": "markdown",
   "id": "53237f07",
   "metadata": {},
   "source": [
    "#### Permutation Importance"
   ]
  },
  {
   "cell_type": "code",
   "execution_count": null,
   "id": "76162123",
   "metadata": {},
   "outputs": [],
   "source": [
    "perm = PermutationImportance(model, random_state=1).fit(X_main_test, y_main_test)\n",
    "show_weights(perm, feature_names = list(X_main_test.columns))"
   ]
  },
  {
   "cell_type": "markdown",
   "id": "ea0f5062",
   "metadata": {},
   "source": [
    "## Others Data"
   ]
  },
  {
   "cell_type": "code",
   "execution_count": null,
   "id": "14cc8ad8",
   "metadata": {},
   "outputs": [],
   "source": [
    "model.fit(X_others_train, y_others_train)\n",
    "y_others_pred = model.predict(X_others_test)"
   ]
  },
  {
   "cell_type": "code",
   "execution_count": null,
   "id": "02584e05",
   "metadata": {},
   "outputs": [],
   "source": [
    "print(classification_report(y_others_test, y_others_pred))"
   ]
  },
  {
   "cell_type": "code",
   "execution_count": null,
   "id": "2093215b",
   "metadata": {},
   "outputs": [],
   "source": [
    "cm = confusion_matrix(y_others_test, y_others_pred)\n",
    "sns.heatmap(cm, cmap ='Blues', annot =True, fmt='g')"
   ]
  },
  {
   "cell_type": "markdown",
   "id": "d0faa98e",
   "metadata": {},
   "source": [
    "#### Permutation Importance"
   ]
  },
  {
   "cell_type": "code",
   "execution_count": null,
   "id": "3f46e57f",
   "metadata": {},
   "outputs": [],
   "source": [
    "perm = PermutationImportance(model, random_state=1).fit(X_others_test, y_others_test)\n",
    "show_weights(perm, feature_names = list(X_others_test.columns))"
   ]
  },
  {
   "cell_type": "code",
   "execution_count": null,
   "id": "1772f09b",
   "metadata": {},
   "outputs": [],
   "source": []
  }
 ],
 "metadata": {
  "kernelspec": {
   "display_name": "anaconda",
   "language": "python",
   "name": "anaconda"
  },
  "language_info": {
   "codemirror_mode": {
    "name": "ipython",
    "version": 3
   },
   "file_extension": ".py",
   "mimetype": "text/x-python",
   "name": "python",
   "nbconvert_exporter": "python",
   "pygments_lexer": "ipython3",
   "version": "3.8.12"
  }
 },
 "nbformat": 4,
 "nbformat_minor": 5
}
